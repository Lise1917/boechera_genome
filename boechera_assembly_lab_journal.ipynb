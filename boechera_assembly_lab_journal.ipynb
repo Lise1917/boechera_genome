{
 "cells": [
  {
   "cell_type": "markdown",
   "id": "fc4545ea",
   "metadata": {},
   "source": [
    "## Plan\n",
    "1. Convert BAM files of HIFI reads to fastq (tool: bam2fastx)\n",
    "2. Evaluate quality of reads with Jellyfish and Genomescope => kmer historam as output\n",
    "3. Evaluete ploidy with Smurdgeplot => kmer-plot with ploidy\n",
    "4. Genome assembly with Flye, Hifiasm, LJA => results in the table ()\n",
    "5. Quality control of genome assembly with Quast and BUSCO => result also in the table"
   ]
  },
  {
   "cell_type": "code",
   "execution_count": 2,
   "id": "d23cdc84",
   "metadata": {},
   "outputs": [],
   "source": [
    "#1. Convert BAM files of HIFI reads to fastq (tool: bam2fastx)\n",
    "\n",
    "input_file_1 = '/media/eternus1/data/plants/boechera_falcata/raw_reads/hifi/BOFA_3455_P2_m64165_220403_044341.hifi.bam'\n",
    "output_file_1 = '/media/eternus1/data/plants/boechera_falcata/users/burdaeva/hifi_fastq/BOFA_3455_P2_m64165_220403_044341.hifi.fastq'\n",
    "command = 'bam2fastq -o /media/eternus1/data/plants/boechera_falcata/users/burdaeva/hifi_fastq/BOFA_3455_P2_m64165_220403_044341.hifi /media/eternus1/data/plants/boechera_falcata/raw_reads/hifi/BOFA_3455_P2_m64165_220403_044341.hifi.bam'\n",
    "\n",
    "input_file_2 = '/media/eternus1/data/plants/boechera_falcata/raw_reads/hifi/BOFA_3455_P2_m64284e_220309_165827.hifi.bam'\n",
    "output_file_2 = '/media/eternus1/data/plants/boechera_falcata/users/burdaeva/hifi_fastq/BOFA_3455_P2_m64284e_220309_165827.hifi.fastq'\n",
    "command = 'bam2fastq -o /media/eternus1/data/plants/boechera_falcata/users/burdaeva/hifi_fastq/BOFA_3455_P2_m64284e_220309_165827.hifi /media/eternus1/data/plants/boechera_falcata/raw_reads/hifi/BOFA_3455_P2_m64284e_220309_165827.hifi.bam'"
   ]
  },
  {
   "cell_type": "code",
   "execution_count": null,
   "id": "3c18871e",
   "metadata": {},
   "outputs": [],
   "source": [
    "#2.1. FASTQC\n",
    "\n",
    "input_file_1 = '/media/eternus1/data/plants/boechera_falcata/users/burdaeva/hifi_fastq/BOFA_3455_P2_m64165_220403_044341.hifi.fastq.gz'\n",
    "output_file_1 = '/fastqc/BOFA_3455_P2_m64165_220403_044341.hifi_fastqc.html'\n",
    "command = 'fastqc -o fastqc /media/eternus1/data/plants/boechera_falcata/users/burdaeva/hifi_fastq/BOFA_3455_P2_m64165_220403_044341.hifi.fastq.gz'\n",
    "\n",
    "input_file_1 = '/media/eternus1/data/plants/boechera_falcata/users/burdaeva/hifi_fastq/BOFA_3455_P2_m64284e_220309_165827.hifi.fastq.gz'\n",
    "output_file_1 = '/fastqc/BOFA_3455_P2_m64284e_220309_165827.hifi_fastqc.html'\n",
    "command = 'fastqc -o fastqc_e /media/eternus1/data/plants/boechera_falcata/users/burdaeva/hifi_fastq/BOFA_3455_P2_m64284e_220309_165827.hifi.fastq.gz'"
   ]
  },
  {
   "cell_type": "code",
   "execution_count": null,
   "id": "ccbd3d2b",
   "metadata": {},
   "outputs": [],
   "source": [
    "BOFA_3455_P2_m64165_220403_044341.hifi.fastq.gz\n",
    "\n",
    "#2.1.1. Per base sequence quality\n",
    "\n",
    "Good.\n",
    "Calls have a good quality (they are in the green zone). \n",
    "There is no need for trimming (?)\n",
    "\n",
    "#2.1.2. Per sequence quality scores\n",
    "\n",
    "Good.\n",
    "The majority of reads have a high average quality score with no large bumps at the lower quality values.\n",
    "\n",
    "#2.1.3. Per base sequence content\n",
    "\n",
    "Good.\n",
    "The lines run parallel in general. \n",
    "\n",
    "#2.1.4. Per sequence GC content\n",
    "\n",
    "Failure.\n",
    "There is a high content of GC (why is there a big difference between the theory and reality?)\n",
    "There is also a sharp peak on a normal distribution (contamination?) \n",
    "\n",
    "#2.1.5. Per base N content\n",
    "\n",
    "Good.\n",
    "There is no N (a sequencer made all base calls with sufficient confidence)\n",
    "\n",
    "#2.1.6. Sequence Length Distribution\n",
    "\n",
    "Warning.\n",
    "All sequences are not the same length (?; it depends on the fragment size selection, primers, DNA weight and quality, etc.)\n",
    "\n",
    "#2.1.7. Sequence Duplication Levels\n",
    "                                       \n",
    "Good.\n",
    "Low level of duplication => high level of coverage of the target sequence (?)\n",
    "\n",
    "#2.1.8. Overrepresented sequences\n",
    "\n",
    "Good.\n",
    "No overrepresented sequences.\n",
    "\n",
    "#2.1.9. Adapter Content\n",
    "                 \n",
    "Good.\n",
    "No adapters (?)"
   ]
  },
  {
   "cell_type": "code",
   "execution_count": null,
   "id": "6df4bfcf",
   "metadata": {},
   "outputs": [],
   "source": [
    "#3. Evaluate quality of reads with Jellyfish and Genomescope => kmer historam as output"
   ]
  },
  {
   "cell_type": "code",
   "execution_count": null,
   "id": "33aba892",
   "metadata": {},
   "outputs": [],
   "source": [
    "#4. Evaluete ploidy with Smurdgeplot => kmer-plot with ploidy"
   ]
  },
  {
   "cell_type": "code",
   "execution_count": null,
   "id": "06e3ad4a",
   "metadata": {},
   "outputs": [],
   "source": [
    "#5. Genome assembly with Flye, Hifiasm, LJA => results in the table ()"
   ]
  },
  {
   "cell_type": "code",
   "execution_count": null,
   "id": "11f64bf4",
   "metadata": {},
   "outputs": [],
   "source": [
    "#6. Quality control of genome assembly with Quast and BUSCO => result also in the table"
   ]
  }
 ],
 "metadata": {
  "kernelspec": {
   "display_name": "Python 3 (ipykernel)",
   "language": "python",
   "name": "python3"
  },
  "language_info": {
   "codemirror_mode": {
    "name": "ipython",
    "version": 3
   },
   "file_extension": ".py",
   "mimetype": "text/x-python",
   "name": "python",
   "nbconvert_exporter": "python",
   "pygments_lexer": "ipython3",
   "version": "3.9.7"
  }
 },
 "nbformat": 4,
 "nbformat_minor": 5
}
